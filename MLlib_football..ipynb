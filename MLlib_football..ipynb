﻿{
  "metadata": {
    "name": "MLlib_football",
    "kernelspec": {
      "language": "scala",
      "name": "spark2-scala"
    },
    "language_info": {
      "codemirror_mode": "text/x-scala",
      "file_extension": ".scala",
      "mimetype": "text/x-scala",
      "name": "scala",
      "pygments_lexer": "scala"
    }
  },
  "nbformat": 4,
  "nbformat_minor": 2,
  "cells": [
    {
      "cell_type": "raw",
      "metadata": {
        "format": "text/plain"
      },
      "source": "%pyspark\ndf2 \u003d spark.read.options(sep\u003d\",\", header\u003dTrue).csv(\"/data/results.csv\")\ndf2.printSchema()\ndf2.show() \n\n"
    },
    {
      "cell_type": "raw",
      "metadata": {
        "format": "text/plain"
      },
      "source": "\n%pyspark\n# call createOrReplaceTempView first if you want to query this DataFrame via sql\ndf2.createOrReplaceTempView(\"match_scores\")\n"
    },
    {
      "cell_type": "code",
      "execution_count": 2,
      "metadata": {
        "autoscroll": "auto"
      },
      "outputs": [],
      "source": "\n%spark.sql\nSELECT city, country, home_team, away_team,\nCASE WHEN home_score \u003d away_score THEN 0.5  WHEN  home_score \u003e away_score  THEN 1 WHEN  home_score \u003c away_score  THEN 0 END result\nFROM match_scores\nGROUP BY city, country, home_team, away_team, home_score, away_score;\n"
    },
    {
      "cell_type": "raw",
      "metadata": {
        "format": "text/plain"
      },
      "source": "%pyspark\r\nfrom pyspark.sql import SparkSession\r\nspark\u003dSparkSession.builder.appName(\u0027ML\u0027).getOrCreate()\r\nfrom pyspark.ml.classification import LogisticRegression\r\nfrom pyspark.ml.feature import VectorAssembler\r\nfrom pyspark.ml.evaluation import MulticlassClassificationEvaluator"
    },
    {
      "cell_type": "raw",
      "metadata": {
        "format": "text/plain"
      },
      "source": "%pyspark\r\ninput_data\u003dspark.read.csv(\u0027/data/wins.csv\u0027,header\u003dTrue,inferSchema\u003dTrue)\r\ninput_data.show()\r\ninput_data1 \u003d input_data.select(input_data.country.alias(\u0027country\u0027),input_data.country.alias(\u0027city\u0027),input_data.home_team.alias(\u0027home_team\u0027),input_data.away_team.alias(\u0027away_team\u0027),input_data.result.cast(\u0027int\u0027).alias(\u0027result\u0027))\r\ninput_data1.show()\r\n\r\n"
    },
    {
      "cell_type": "raw",
      "metadata": {
        "format": "text/plain"
      },
      "source": "%pyspark\nfrom pyspark.ml import Pipeline\nfrom pyspark.ml.feature import StringIndexer\n\nindexerhometeam \u003d StringIndexer(inputCol\u003d\u0027home_team\u0027,outputCol\u003d\u0027home_team_indexed\u0027)\nindexerawayteam \u003d StringIndexer(inputCol\u003d\u0027away_team\u0027,outputCol\u003d\u0027away_team_indexed\u0027)\nindexercity \u003d StringIndexer(inputCol\u003d\u0027city\u0027,outputCol\u003d\u0027city_indexed\u0027)\nindexercountry \u003d StringIndexer(inputCol\u003d\u0027country\u0027,outputCol\u003d\u0027country_indexed\u0027)\n\nindex1 \u003d indexerhometeam.fit(input_data)\nindex1data \u003d index1.transform(input_data)\n\nindex2 \u003d indexerawayteam.fit(index1data)\nindex2data \u003d index2.transform(index1data)\n\nindex3 \u003d indexercity.fit(index2data)\nindex3data \u003d index3.transform(index2data)\n\nindex4 \u003d indexercountry.fit(index3data)\nindex4data \u003d index4.transform(index3data)\nindex4data.show()"
    },
    {
      "cell_type": "raw",
      "metadata": {
        "format": "text/plain"
      },
      "source": "%pyspark\nassembler\u003dVectorAssembler(inputCols\u003d[\u0027home_team_indexed\u0027,\u0027away_team_indexed\u0027,\u0027country_indexed\u0027,\u0027city_indexed\u0027,\u0027result\u0027],outputCol\u003d\u0027features\u0027)\n\n"
    },
    {
      "cell_type": "raw",
      "metadata": {
        "format": "text/plain"
      },
      "source": "%pyspark\noutput_data\u003dassembler.transform(index4data)\noutput_data.show()"
    },
    {
      "cell_type": "raw",
      "metadata": {
        "format": "text/plain"
      },
      "source": "%pyspark\nfinal_data\u003doutput_data.select(\u0027features\u0027,\u0027home_team\u0027,\u0027away_team\u0027,\u0027city\u0027,\u0027country\u0027,\u0027city_indexed\u0027,\u0027result\u0027)"
    },
    {
      "cell_type": "raw",
      "metadata": {
        "format": "text/plain"
      },
      "source": "%pyspark\ntrain,test\u003dfinal_data.randomSplit([0.8,0.2])"
    },
    {
      "cell_type": "raw",
      "metadata": {
        "format": "text/plain"
      },
      "source": "%pyspark\ntrain.show()"
    },
    {
      "cell_type": "raw",
      "metadata": {
        "format": "text/plain"
      },
      "source": "%pyspark\ntest.show()"
    },
    {
      "cell_type": "raw",
      "metadata": {
        "format": "text/plain"
      },
      "source": "%pyspark\nfrom pyspark.ml.regression import LinearRegression\nmodel\u003dLinearRegression(featuresCol\u003d\u0027features\u0027,labelCol\u003d\u0027result\u0027)"
    },
    {
      "cell_type": "raw",
      "metadata": {
        "format": "text/plain"
      },
      "source": "%pyspark\nmodel\u003dmodel.fit(train)"
    },
    {
      "cell_type": "raw",
      "metadata": {
        "format": "text/plain"
      },
      "source": "%pyspark\nsummary\u003dmodel.summary\nsummary.predictions.describe().show()"
    },
    {
      "cell_type": "raw",
      "metadata": {
        "format": "text/plain"
      },
      "source": "%pyspark\nsummary.predictions.show(100)"
    },
    {
      "cell_type": "raw",
      "metadata": {
        "format": "text/plain"
      },
      "source": "%pyspark\n"
    }
  ]
}